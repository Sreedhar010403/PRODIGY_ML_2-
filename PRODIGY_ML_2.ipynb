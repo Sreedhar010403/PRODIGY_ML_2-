{
  "nbformat": 4,
  "nbformat_minor": 0,
  "metadata": {
    "colab": {
      "provenance": []
    },
    "kernelspec": {
      "name": "python3",
      "display_name": "Python 3"
    },
    "language_info": {
      "name": "python"
    }
  },
  "cells": [
    {
      "cell_type": "code",
      "execution_count": 1,
      "metadata": {
        "id": "I1cEALuV7F3E"
      },
      "outputs": [],
      "source": [
        "import pandas as pd\n",
        "import numpy as np\n",
        "from sklearn.cluster import KMeans\n",
        "from scipy.cluster.vq import kmeans, vq\n",
        "from sklearn.preprocessing import StandardScaler\n",
        "import matplotlib.pyplot as plt"
      ]
    },
    {
      "cell_type": "code",
      "source": [
        "df=pd.read_csv(\"Mall_Customers.csv\")"
      ],
      "metadata": {
        "id": "vXMZcgcn7RkC"
      },
      "execution_count": 3,
      "outputs": []
    },
    {
      "cell_type": "code",
      "source": [
        "df.info()"
      ],
      "metadata": {
        "colab": {
          "base_uri": "https://localhost:8080/"
        },
        "id": "4MjH9-wU7ZbE",
        "outputId": "2941897e-7d7f-490c-88ad-05d07205395a"
      },
      "execution_count": 4,
      "outputs": [
        {
          "output_type": "stream",
          "name": "stdout",
          "text": [
            "<class 'pandas.core.frame.DataFrame'>\n",
            "RangeIndex: 200 entries, 0 to 199\n",
            "Data columns (total 5 columns):\n",
            " #   Column                  Non-Null Count  Dtype \n",
            "---  ------                  --------------  ----- \n",
            " 0   CustomerID              200 non-null    int64 \n",
            " 1   Gender                  200 non-null    object\n",
            " 2   Age                     200 non-null    int64 \n",
            " 3   Annual Income (k$)      200 non-null    int64 \n",
            " 4   Spending Score (1-100)  200 non-null    int64 \n",
            "dtypes: int64(4), object(1)\n",
            "memory usage: 7.9+ KB\n"
          ]
        }
      ]
    },
    {
      "cell_type": "code",
      "source": [
        "X = df.drop(['CustomerID', 'Gender'], axis=1)"
      ],
      "metadata": {
        "id": "LTdgMSlz7ehF"
      },
      "execution_count": 5,
      "outputs": []
    },
    {
      "cell_type": "code",
      "source": [
        "scaler = StandardScaler()\n",
        "X_scaled = scaler.fit_transform(X)"
      ],
      "metadata": {
        "id": "H-0ud2467j_3"
      },
      "execution_count": 6,
      "outputs": []
    },
    {
      "cell_type": "code",
      "source": [
        "wcss = []\n",
        "for i in range(1, 11):\n",
        "    centroids, distortion = kmeans(X_scaled, i)\n",
        "    wcss.append(distortion)\n",
        "\n",
        "# Plot the Elbow Method\n",
        "plt.plot(range(1, 11), wcss)\n",
        "plt.title('Elbow Method')\n",
        "plt.xlabel('Number of clusters')\n",
        "plt.ylabel('WCSS')  # Within-Cluster Sum of Squares\n",
        "plt.show()\n",
        "\n",
        "# Based on the Elbow Method, let's choose k=5\n",
        "k = 5\n",
        "\n",
        "# Apply k-means clustering with the chosen k\n",
        "centroids, _ = kmeans(X_scaled, k)\n",
        "df['Cluster'], _ = vq(X_scaled, centroids)\n",
        "\n",
        "# Display the resulting clusters\n",
        "print(df[['CustomerID', 'Cluster']])"
      ],
      "metadata": {
        "colab": {
          "base_uri": "https://localhost:8080/",
          "height": 715
        },
        "id": "tXSx60vf7odU",
        "outputId": "e0fa4f99-0c8c-4ed5-fa02-e72e57b4e4b7"
      },
      "execution_count": 7,
      "outputs": [
        {
          "output_type": "display_data",
          "data": {
            "text/plain": [
              "<Figure size 640x480 with 1 Axes>"
            ],
            "image/png": "[encoded data removed]"
          },
          "metadata": {}
        },
        {
          "output_type": "stream",
          "name": "stdout",
          "text": [
            "     CustomerID  Cluster\n",
            "0             1        0\n",
            "1             2        2\n",
            "2             3        0\n",
            "3             4        2\n",
            "4             5        0\n",
            "..          ...      ...\n",
            "195         196        3\n",
            "196         197        4\n",
            "197         198        3\n",
            "198         199        4\n",
            "199         200        3\n",
            "\n",
            "[200 rows x 2 columns]\n"
          ]
        }
      ]
    },
    {
      "cell_type": "markdown",
      "source": [],
      "metadata": {
        "id": "u9xj5c8i8Czu"
      }
    }
  ]
}